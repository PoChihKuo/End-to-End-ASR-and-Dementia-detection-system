{
 "cells": [
  {
   "cell_type": "code",
   "execution_count": 1,
   "id": "registered-cedar",
   "metadata": {},
   "outputs": [],
   "source": [
    "import pandas as pd"
   ]
  },
  {
   "cell_type": "code",
   "execution_count": 4,
   "id": "convinced-paintball",
   "metadata": {},
   "outputs": [
    {
     "name": "stderr",
     "output_type": "stream",
     "text": [
      "/opt/tljh/user/lib/python3.7/site-packages/IPython/core/interactiveshell.py:3437: FutureWarning: In a future version of pandas all arguments of read_csv except for the argument 'filepath_or_buffer' will be keyword-only\n",
      "  exec(code_obj, self.user_global_ns, self.user_ns)\n"
     ]
    }
   ],
   "source": [
    "origindecode = pd.read_csv('./cv11Lu_asr_lstm4atthead_allvocab-decode_test_beam.csv', '\\t')\n"
   ]
  },
  {
   "cell_type": "code",
   "execution_count": 7,
   "id": "prescription-clerk",
   "metadata": {},
   "outputs": [],
   "source": [
    "origindecode.sort_values(by='idx', inplace=True)"
   ]
  },
  {
   "cell_type": "code",
   "execution_count": 11,
   "id": "apparent-montana",
   "metadata": {},
   "outputs": [],
   "source": [
    "origindecode.to_csv('./origin_allvocab_decode.csv', index=False)"
   ]
  },
  {
   "cell_type": "code",
   "execution_count": 12,
   "id": "color-white",
   "metadata": {},
   "outputs": [
    {
     "name": "stderr",
     "output_type": "stream",
     "text": [
      "/opt/tljh/user/lib/python3.7/site-packages/IPython/core/interactiveshell.py:3437: FutureWarning: In a future version of pandas all arguments of read_csv except for the argument 'filepath_or_buffer' will be keyword-only\n",
      "  exec(code_obj, self.user_global_ns, self.user_ns)\n"
     ]
    }
   ],
   "source": [
    "fintune01decode = pd.read_csv('./cv11Lu_asr_lstm4atthead_allvocab-Finetune-test_test_beam.csv', '\\t')\n",
    "fintune01decode.sort_values(by='idx', inplace=True)\n",
    "fintune01decode.to_csv('./VAG01_finetuning_decoder02.csv', index=False)"
   ]
  },
  {
   "cell_type": "code",
   "execution_count": 13,
   "id": "pacific-motion",
   "metadata": {},
   "outputs": [],
   "source": [
    "fintune02decode = pd.read_csv('./cv11Lu_asr_lstm4atthead_allvocab-Finetune02-test_test_beam.csv', '\\t')\n",
    "fintune02decode.sort_values(by='idx', inplace=True)\n",
    "fintune02decode.to_csv('./VAG01_finetuning_encoder01.csv', index=False)"
   ]
  },
  {
   "cell_type": "code",
   "execution_count": 2,
   "id": "agricultural-waterproof",
   "metadata": {},
   "outputs": [
    {
     "name": "stderr",
     "output_type": "stream",
     "text": [
      "/opt/tljh/user/lib/python3.7/site-packages/IPython/core/interactiveshell.py:3437: FutureWarning: In a future version of pandas all arguments of read_csv except for the argument 'filepath_or_buffer' will be keyword-only\n",
      "  exec(code_obj, self.user_global_ns, self.user_ns)\n"
     ]
    },
    {
     "data": {
      "text/html": [
       "<div>\n",
       "<style scoped>\n",
       "    .dataframe tbody tr th:only-of-type {\n",
       "        vertical-align: middle;\n",
       "    }\n",
       "\n",
       "    .dataframe tbody tr th {\n",
       "        vertical-align: top;\n",
       "    }\n",
       "\n",
       "    .dataframe thead th {\n",
       "        text-align: right;\n",
       "    }\n",
       "</style>\n",
       "<table border=\"1\" class=\"dataframe\">\n",
       "  <thead>\n",
       "    <tr style=\"text-align: right;\">\n",
       "      <th></th>\n",
       "      <th>idx</th>\n",
       "      <th>hyp</th>\n",
       "      <th>truth</th>\n",
       "    </tr>\n",
       "  </thead>\n",
       "  <tbody>\n",
       "    <tr>\n",
       "      <th>0</th>\n",
       "      <td>13_32</td>\n",
       "      <td>客子椅子</td>\n",
       "      <td>你可自由決定是否參加本試驗研究並於試驗研究過程中可隨時撤銷同意退出試驗研究不需任何理由且不會...</td>\n",
       "    </tr>\n",
       "    <tr>\n",
       "      <th>1</th>\n",
       "      <td>26_29</td>\n",
       "      <td>隨時車小同意</td>\n",
       "      <td>你可自由決定是否參加本試驗研究並於試驗研究過程中可隨時撤銷同意退出試驗研究不需任何理由且不會...</td>\n",
       "    </tr>\n",
       "    <tr>\n",
       "      <th>2</th>\n",
       "      <td>42_27</td>\n",
       "      <td>新竹至年完這條文字</td>\n",
       "      <td>你可自由決定是否參加本試驗研究並於試驗研究過程中可隨時撤銷同意退出試驗研究不需任何理由且不會...</td>\n",
       "    </tr>\n",
       "    <tr>\n",
       "      <th>3</th>\n",
       "      <td>01_0</td>\n",
       "      <td>我看面</td>\n",
       "      <td>你可自由決定是否參加本試驗研究並於試驗研究過程中可隨時撤銷同意退出試驗研究不需任何理由且不會...</td>\n",
       "    </tr>\n",
       "    <tr>\n",
       "      <th>4</th>\n",
       "      <td>01_1</td>\n",
       "      <td>點前前網深</td>\n",
       "      <td>你可自由決定是否參加本試驗研究並於試驗研究過程中可隨時撤銷同意退出試驗研究不需任何理由且不會...</td>\n",
       "    </tr>\n",
       "    <tr>\n",
       "      <th>...</th>\n",
       "      <td>...</td>\n",
       "      <td>...</td>\n",
       "      <td>...</td>\n",
       "    </tr>\n",
       "    <tr>\n",
       "      <th>1490</th>\n",
       "      <td>52_5</td>\n",
       "      <td>台中市與南投縣</td>\n",
       "      <td>你可自由決定是否參加本試驗研究並於試驗研究過程中可隨時撤銷同意退出試驗研究不需任何理由且不會...</td>\n",
       "    </tr>\n",
       "    <tr>\n",
       "      <th>1491</th>\n",
       "      <td>52_6</td>\n",
       "      <td>福西收路</td>\n",
       "      <td>你可自由決定是否參加本試驗研究並於試驗研究過程中可隨時撤銷同意退出試驗研究不需任何理由且不會...</td>\n",
       "    </tr>\n",
       "    <tr>\n",
       "      <th>1492</th>\n",
       "      <td>52_7</td>\n",
       "      <td>房</td>\n",
       "      <td>你可自由決定是否參加本試驗研究並於試驗研究過程中可隨時撤銷同意退出試驗研究不需任何理由且不會...</td>\n",
       "    </tr>\n",
       "    <tr>\n",
       "      <th>1493</th>\n",
       "      <td>52_8</td>\n",
       "      <td>若若看知道跟的資訊就可以看</td>\n",
       "      <td>你可自由決定是否參加本試驗研究並於試驗研究過程中可隨時撤銷同意退出試驗研究不需任何理由且不會...</td>\n",
       "    </tr>\n",
       "    <tr>\n",
       "      <th>1494</th>\n",
       "      <td>52_9</td>\n",
       "      <td>關西交流道</td>\n",
       "      <td>你可自由決定是否參加本試驗研究並於試驗研究過程中可隨時撤銷同意退出試驗研究不需任何理由且不會...</td>\n",
       "    </tr>\n",
       "  </tbody>\n",
       "</table>\n",
       "<p>1495 rows × 3 columns</p>\n",
       "</div>"
      ],
      "text/plain": [
       "        idx            hyp                                              truth\n",
       "0     13_32           客子椅子  你可自由決定是否參加本試驗研究並於試驗研究過程中可隨時撤銷同意退出試驗研究不需任何理由且不會...\n",
       "1     26_29         隨時車小同意  你可自由決定是否參加本試驗研究並於試驗研究過程中可隨時撤銷同意退出試驗研究不需任何理由且不會...\n",
       "2     42_27      新竹至年完這條文字  你可自由決定是否參加本試驗研究並於試驗研究過程中可隨時撤銷同意退出試驗研究不需任何理由且不會...\n",
       "3      01_0            我看面  你可自由決定是否參加本試驗研究並於試驗研究過程中可隨時撤銷同意退出試驗研究不需任何理由且不會...\n",
       "4      01_1          點前前網深  你可自由決定是否參加本試驗研究並於試驗研究過程中可隨時撤銷同意退出試驗研究不需任何理由且不會...\n",
       "...     ...            ...                                                ...\n",
       "1490   52_5        台中市與南投縣  你可自由決定是否參加本試驗研究並於試驗研究過程中可隨時撤銷同意退出試驗研究不需任何理由且不會...\n",
       "1491   52_6           福西收路  你可自由決定是否參加本試驗研究並於試驗研究過程中可隨時撤銷同意退出試驗研究不需任何理由且不會...\n",
       "1492   52_7              房  你可自由決定是否參加本試驗研究並於試驗研究過程中可隨時撤銷同意退出試驗研究不需任何理由且不會...\n",
       "1493   52_8  若若看知道跟的資訊就可以看  你可自由決定是否參加本試驗研究並於試驗研究過程中可隨時撤銷同意退出試驗研究不需任何理由且不會...\n",
       "1494   52_9          關西交流道  你可自由決定是否參加本試驗研究並於試驗研究過程中可隨時撤銷同意退出試驗研究不需任何理由且不會...\n",
       "\n",
       "[1495 rows x 3 columns]"
      ]
     },
     "execution_count": 2,
     "metadata": {},
     "output_type": "execute_result"
    }
   ],
   "source": [
    "allvagdecode1 = pd.read_csv('./cv11Lu_asr_lstm4atthead_allvocab-decode-allvag_dev_output.csv', '\\t')\n",
    "allvagdecode1"
   ]
  },
  {
   "cell_type": "code",
   "execution_count": 9,
   "id": "wound-merchant",
   "metadata": {},
   "outputs": [
    {
     "ename": "SyntaxError",
     "evalue": "invalid syntax (<ipython-input-9-b3d24e2ab6e5>, line 1)",
     "output_type": "error",
     "traceback": [
      "\u001b[0;36m  File \u001b[0;32m\"<ipython-input-9-b3d24e2ab6e5>\"\u001b[0;36m, line \u001b[0;32m1\u001b[0m\n\u001b[0;31m    allvagdecode1[allvagdecode1['idx'].str.contains(\"01_\")].sort_values(by=['idx'], key=lambda col: col.str[0:3] + '0' + col.str[3] if len(col.str) == 4) else col.str\u001b[0m\n\u001b[0m                                                                                                                                                        ^\u001b[0m\n\u001b[0;31mSyntaxError\u001b[0m\u001b[0;31m:\u001b[0m invalid syntax\n"
     ]
    }
   ],
   "source": [
    "allvagdecode1[allvagdecode1['idx'].str.contains(\"01_\")].sort_values(by=['idx'], key=lambda col: col.str[0:3] + '0' + col.str[3] if len(col.str) == 4) else col.str\n"
   ]
  },
  {
   "cell_type": "code",
   "execution_count": 2,
   "id": "advised-consolidation",
   "metadata": {},
   "outputs": [
    {
     "name": "stdout",
     "output_type": "stream",
     "text": [
      "\r\n",
      "============  Result of /home/jupyter-jason5/LAS_Mandarin_PyTorch-master/result/cv11Lu_asr_lstm4atthead_allvocab-decode_test_output.csv ============\r\n",
      " -----------------------------------------------------------------------\r\n",
      "| Statics\t\t|  Truth\t|  Prediction\t| Abs. Diff.\t|\r\n",
      " -----------------------------------------------------------------------\r\n",
      "| Avg. # of chars\t|  11.02\t|  9.52\t|  2.02\t\t|\r\n",
      "| Avg. # of words\t|  1.00\t|  1.00\t|  0.00\t\t|\r\n",
      " -----------------------------------------------------------------------\r\n",
      " ---------------------------------------------------------------\r\n",
      "| Error Rate (%)| Mean\t\t| Std.\t\t| Min./Max.\t|\r\n",
      " ---------------------------------------------------------------\r\n",
      "| Character\t| 85.2100\t| 24.69\t\t| 0.00/214.29\t|\r\n",
      "| Word\t\t| 99.1935\t| 8.98\t\t| 0.00/100.00\t|\r\n",
      " ---------------------------------------------------------------\r\n",
      "Note : If the text unit is phoneme, WER = PER and CER is meaningless.\r\n",
      "\r\n"
     ]
    }
   ],
   "source": [
    "!python ../eval.py --file ~/LAS_Mandarin_PyTorch-master/result/cv11Lu_asr_lstm4atthead_allvocab-decode_test_output.csv"
   ]
  },
  {
   "cell_type": "code",
   "execution_count": 7,
   "id": "north-storage",
   "metadata": {},
   "outputs": [
    {
     "name": "stdout",
     "output_type": "stream",
     "text": [
      "\r\n",
      "============  Result of /home/jupyter-jason5/LAS_Mandarin_PyTorch-master/result/mozillacv11_asr_stm4atthead-test-VaG2_test_output.csv ============\r\n",
      " -----------------------------------------------------------------------\r\n",
      "| Statics\t\t|  Truth\t|  Prediction\t| Abs. Diff.\t|\r\n",
      " -----------------------------------------------------------------------\r\n",
      "| Avg. # of chars\t|  11.19\t|  48.51\t|  41.74\t\t|\r\n",
      "| Avg. # of words\t|  1.00\t|  1.00\t|  0.00\t\t|\r\n",
      " -----------------------------------------------------------------------\r\n",
      " ---------------------------------------------------------------\r\n",
      "| Error Rate (%)| Mean\t\t| Std.\t\t| Min./Max.\t|\r\n",
      " ---------------------------------------------------------------\r\n",
      "| Character\t| 273.5871\t| 2084.37\t\t| 20.00/23295.24\t|\r\n",
      "| Word\t\t| 100.0000\t| 0.00\t\t| 100.00/100.00\t|\r\n",
      " ---------------------------------------------------------------\r\n",
      "Note : If the text unit is phoneme, WER = PER and CER is meaningless.\r\n",
      "\r\n"
     ]
    }
   ],
   "source": [
    "!python ../eval.py --file ~/LAS_Mandarin_PyTorch-master/result/mozillacv11_asr_stm4atthead-test-VaG2_test_output.csv"
   ]
  },
  {
   "cell_type": "code",
   "execution_count": null,
   "id": "massive-puppy",
   "metadata": {},
   "outputs": [],
   "source": []
  }
 ],
 "metadata": {
  "kernelspec": {
   "display_name": "Python 3",
   "language": "python",
   "name": "python3"
  },
  "language_info": {
   "codemirror_mode": {
    "name": "ipython",
    "version": 3
   },
   "file_extension": ".py",
   "mimetype": "text/x-python",
   "name": "python",
   "nbconvert_exporter": "python",
   "pygments_lexer": "ipython3",
   "version": "3.7.10"
  }
 },
 "nbformat": 4,
 "nbformat_minor": 5
}
